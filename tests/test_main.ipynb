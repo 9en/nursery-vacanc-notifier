{
 "cells": [
  {
   "cell_type": "markdown",
   "metadata": {},
   "source": [
    "## 環境変数の設定"
   ]
  },
  {
   "cell_type": "code",
   "execution_count": 1,
   "metadata": {},
   "outputs": [
    {
     "name": "stdout",
     "output_type": "stream",
     "text": [
      "staging\n"
     ]
    }
   ],
   "source": [
    "import os\n",
    "\n",
    "# 作業ディレクトリをcloud functionsに合わせる\n",
    "os.chdir(\"../function\")\n",
    "\n",
    "# 環境変数を設定\n",
    "os.environ[\"ENV_FOR_DYNACONF\"] = \"staging\"\n",
    "# os.environ[\"ENV_FOR_DYNACONF\"] = \"production\"\n",
    "\n",
    "# 環境変数を確認\n",
    "print(os.environ[\"ENV_FOR_DYNACONF\"])"
   ]
  },
  {
   "cell_type": "markdown",
   "metadata": {},
   "source": [
    "## configファイルの読み込み"
   ]
  },
  {
   "cell_type": "code",
   "execution_count": 2,
   "metadata": {},
   "outputs": [
    {
     "name": "stdout",
     "output_type": "stream",
     "text": [
      "{\n",
      "  \"PROJECT_NAME\": \"nursery-vacanc-notifier\",\n",
      "  \"REQUEST_URL\": {\n",
      "    \"習志野市\": \"https://www.city.narashino.lg.jp/soshiki/kodomo_hoiku/gyomu/hoikugakko/akireigetu.html\"\n",
      "  },\n",
      "  \"LINE_NOTIFY_API\": \"https://notify-api.line.me/api/notify\",\n",
      "  \"SECRET_MANAGER_NAME\": \"LINE_NOTIFY\",\n",
      "  \"LINE_NOTIFY_MAX_MESSAGE_LENGTH\": 1000,\n",
      "  \"TARGET_AGE\": [\n",
      "    \"0歳児\",\n",
      "    \"1歳児\",\n",
      "    \"2歳児\"\n",
      "  ],\n",
      "  \"TARGET_AVAILABILITY\": [\n",
      "    \"1～2人\",\n",
      "    \"3人以上\"\n",
      "  ],\n",
      "  \"AVAILABILITY\": {\n",
      "    \"◯\": \"3人以上\",\n",
      "    \"△\": \"1～2人\",\n",
      "    \"×\": \"空きなし\",\n",
      "    \"―\": \"受け入れなし\"\n",
      "  },\n",
      "  \"LINE_NOTIFY_TOKEN_ID\": \"line_notify_dev\"\n",
      "}\n"
     ]
    }
   ],
   "source": [
    "import json\n",
    "\n",
    "from dynaconf import Dynaconf\n",
    "\n",
    "\n",
    "SETTINGS = Dynaconf(\n",
    "    environments=True,\n",
    "    settings_files=\"settings.toml\",\n",
    ")\n",
    "\n",
    "print(json.dumps(SETTINGS.as_dict(), indent=2, ensure_ascii=False))"
   ]
  },
  {
   "cell_type": "code",
   "execution_count": 3,
   "metadata": {},
   "outputs": [
    {
     "data": {
      "text/plain": [
       "'line_notify_dev'"
      ]
     },
     "execution_count": 3,
     "metadata": {},
     "output_type": "execute_result"
    }
   ],
   "source": [
    "from utils.dynaconf import get_config_value\n",
    "\n",
    "\n",
    "get_config_value(\"LINE_NOTIFY_TOKEN_ID\")"
   ]
  },
  {
   "cell_type": "markdown",
   "metadata": {},
   "source": [
    "## 保育所等空き状況の取得"
   ]
  },
  {
   "cell_type": "code",
   "execution_count": 4,
   "metadata": {},
   "outputs": [
    {
     "name": "stdout",
     "output_type": "stream",
     "text": [
      "2024-05-25 00:00:00\n",
      "                                名称   年齢    空き\n",
      "0                    藤崎保育所(定員:123)  0歳児  1～2人\n",
      "2                 本大久保第二保育所(定員:47)  0歳児  1～2人\n",
      "10                  向山こども園(定員:142)  0歳児  3人以上\n",
      "13               明徳そでにの保育園(定員:110)  0歳児  3人以上\n",
      "17                谷津みのり保育園(定員:138)  0歳児  1～2人\n",
      "32                   青葉幼稚園(定員:121)  0歳児  1～2人\n",
      "35               ひまわり保育園2nd(定員:18)  0歳児  3人以上\n",
      "36               ひまわり保育園3rd(定員:18)  0歳児  1～2人\n",
      "37          サンライズキッズ保育園津田沼園(定員:19)  0歳児  1～2人\n",
      "38          サンライズキッズ保育園奏の杜園(定員:18)  0歳児  1～2人\n",
      "39                  ひまわり保育園(定員:18)  0歳児  1～2人\n",
      "42                  ロゼッタ保育園(定員:18)  0歳児  3人以上\n",
      "43   ポピンズナーサリースクールイオンモール津田沼(定員:18)  0歳児  3人以上\n",
      "44              みらいつむぎ谷津保育園(定員:19)  0歳児  1～2人\n",
      "45              ひまわり保育園Sola(定員:19)  0歳児  3人以上\n",
      "47                   谷津保育所(定員:109)  1歳児  3人以上\n",
      "50                  谷津南保育所(定員:160)  1歳児  3人以上\n",
      "53                 袖ケ浦こども園(定員:125)  1歳児  3人以上\n",
      "56                  向山こども園(定員:142)  1歳児  3人以上\n",
      "57                   かすみ保育園(定員:90)  1歳児  1～2人\n",
      "58                若松すずみ保育園(定員:150)  1歳児  3人以上\n",
      "88                  ロゼッタ保育園(定員:18)  1歳児  3人以上\n",
      "90              みらいつむぎ谷津保育園(定員:19)  1歳児  1～2人\n",
      "91              ひまわり保育園Sola(定員:19)  1歳児  1～2人\n",
      "102                 向山こども園(定員:142)  2歳児  1～2人\n",
      "109               谷津みのり保育園(定員:138)  2歳児  1～2人\n",
      "111            ブレーメン津田沼保育園(定員:149)  2歳児  1～2人\n",
      "133                  杜の子保育園(定員:19)  2歳児  1～2人\n",
      "134                 ロゼッタ保育園(定員:18)  2歳児  1～2人\n",
      "136             みらいつむぎ谷津保育園(定員:19)  2歳児  1～2人\n",
      "137             ひまわり保育園Sola(定員:19)  2歳児  1～2人\n"
     ]
    }
   ],
   "source": [
    "from datetime import datetime\n",
    "\n",
    "import pandas as pd\n",
    "import requests\n",
    "from bs4 import BeautifulSoup\n",
    "\n",
    "\n",
    "pd.set_option(\"future.no_silent_downcasting\", True)\n",
    "\n",
    "\n",
    "def read_html_tables(html_source: bytes) -> pd.DataFrame:\n",
    "    \"\"\"Read HTML tables into pandas DataFrames and clean the first table.\n",
    "\n",
    "    Args:\n",
    "        html_source (bytes): html content to be parsed\n",
    "\n",
    "    Returns:\n",
    "        pd.DataFrame: cleaned DataFrame\n",
    "    \"\"\"\n",
    "    df = pd.read_html(html_source)[0]\n",
    "    df.drop([0, 1], inplace=True)\n",
    "    df.columns = [\"名称1\", \"名称\", \"定員\", \"0歳児\", \"1歳児\", \"2歳児\", \"3歳児\", \"4歳児\", \"5歳児\"]\n",
    "\n",
    "    # 名称を結合して、不要な列を削除\n",
    "    df[\"名称\"] = df[\"名称\"] + \"(定員:\" + df[\"定員\"] + \")\"\n",
    "    df.drop([\"名称1\", \"定員\"], axis=1, inplace=True)\n",
    "\n",
    "    # 空き状況の記号を文字列に変換\n",
    "    df = df.replace(SETTINGS[\"availability\"])\n",
    "\n",
    "    # フォーマット変更\n",
    "    df = df.melt(id_vars=[\"名称\"], var_name=\"年齢\", value_name=\"空き\")\n",
    "    df = df[df[\"空き\"].isin(SETTINGS[\"target_availability\"])]\n",
    "    return df[df[\"年齢\"].isin(SETTINGS[\"target_age\"])]\n",
    "\n",
    "def extract_update_time(html_source: bytes) -> str:\n",
    "    \"\"\"Extract the update time from the HTML source.\n",
    "\n",
    "    Args:\n",
    "        html_source (bytes): HTML source to be parsed\n",
    "\n",
    "    Returns:\n",
    "        str: update time in the format of %a, %d %b %Y %H:%M:%S GMT\n",
    "    \"\"\"\n",
    "    soup = BeautifulSoup(html_source, 'html.parser')\n",
    "    meta_tag = soup.find('meta', attrs={'name': 'nsls:timestamp'})\n",
    "    timestamp_str = meta_tag['content'] if meta_tag else 'Tag not found'\n",
    "    return datetime.strptime(timestamp_str, '%a, %d %b %Y %H:%M:%S GMT')\n",
    "\n",
    "\n",
    "for city in SETTINGS[\"request_url\"]:\n",
    "    html_source = requests.get(SETTINGS[\"request_url\"][city], timeout=10)\n",
    "    update_time = extract_update_time(html_source.text)\n",
    "    print(update_time)\n",
    "    df = read_html_tables(html_source.content)\n",
    "    print(df)"
   ]
  },
  {
   "cell_type": "code",
   "execution_count": 6,
   "metadata": {},
   "outputs": [
    {
     "data": {
      "text/plain": [
       "(                                名称   年齢    空き\n",
       " 0                    藤崎保育所(定員:123)  0歳児  1～2人\n",
       " 2                 本大久保第二保育所(定員:47)  0歳児  1～2人\n",
       " 10                  向山こども園(定員:142)  0歳児  3人以上\n",
       " 13               明徳そでにの保育園(定員:110)  0歳児  3人以上\n",
       " 17                谷津みのり保育園(定員:138)  0歳児  1～2人\n",
       " 32                   青葉幼稚園(定員:121)  0歳児  1～2人\n",
       " 35               ひまわり保育園2nd(定員:18)  0歳児  3人以上\n",
       " 36               ひまわり保育園3rd(定員:18)  0歳児  1～2人\n",
       " 37          サンライズキッズ保育園津田沼園(定員:19)  0歳児  1～2人\n",
       " 38          サンライズキッズ保育園奏の杜園(定員:18)  0歳児  1～2人\n",
       " 39                  ひまわり保育園(定員:18)  0歳児  1～2人\n",
       " 42                  ロゼッタ保育園(定員:18)  0歳児  3人以上\n",
       " 43   ポピンズナーサリースクールイオンモール津田沼(定員:18)  0歳児  3人以上\n",
       " 44              みらいつむぎ谷津保育園(定員:19)  0歳児  1～2人\n",
       " 45              ひまわり保育園Sola(定員:19)  0歳児  3人以上\n",
       " 47                   谷津保育所(定員:109)  1歳児  3人以上\n",
       " 50                  谷津南保育所(定員:160)  1歳児  3人以上\n",
       " 53                 袖ケ浦こども園(定員:125)  1歳児  3人以上\n",
       " 56                  向山こども園(定員:142)  1歳児  3人以上\n",
       " 57                   かすみ保育園(定員:90)  1歳児  1～2人\n",
       " 58                若松すずみ保育園(定員:150)  1歳児  3人以上\n",
       " 88                  ロゼッタ保育園(定員:18)  1歳児  3人以上\n",
       " 90              みらいつむぎ谷津保育園(定員:19)  1歳児  1～2人\n",
       " 91              ひまわり保育園Sola(定員:19)  1歳児  1～2人\n",
       " 102                 向山こども園(定員:142)  2歳児  1～2人\n",
       " 109               谷津みのり保育園(定員:138)  2歳児  1～2人\n",
       " 111            ブレーメン津田沼保育園(定員:149)  2歳児  1～2人\n",
       " 133                  杜の子保育園(定員:19)  2歳児  1～2人\n",
       " 134                 ロゼッタ保育園(定員:18)  2歳児  1～2人\n",
       " 136             みらいつむぎ谷津保育園(定員:19)  2歳児  1～2人\n",
       " 137             ひまわり保育園Sola(定員:19)  2歳児  1～2人,\n",
       " '2024-05-25 00:00:00')"
      ]
     },
     "execution_count": 6,
     "metadata": {},
     "output_type": "execute_result"
    }
   ],
   "source": [
    "from scraping import scrape\n",
    "\n",
    "\n",
    "scrape()"
   ]
  },
  {
   "cell_type": "markdown",
   "metadata": {},
   "source": [
    "## GCPの認証"
   ]
  },
  {
   "cell_type": "code",
   "execution_count": null,
   "metadata": {},
   "outputs": [],
   "source": [
    "!gcloud config set project\n",
    "!gcloud auth application-default login"
   ]
  },
  {
   "cell_type": "markdown",
   "metadata": {},
   "source": [
    "## GCPのシークレットマネージャーからAPIキーを取得"
   ]
  },
  {
   "cell_type": "code",
   "execution_count": null,
   "metadata": {},
   "outputs": [],
   "source": [
    "from google.cloud import secretmanager\n",
    "\n",
    "\n",
    "# クライアントの初期化\n",
    "client = secretmanager.SecretManagerServiceClient()\n",
    "\n",
    "# # 秘密情報の名前を指定\n",
    "name = f\"projects/{SETTINGS['gcp_project_id']}/secrets/{SETTINGS['secret_manager_name']}/versions/latest\"\n",
    "\n",
    "# # 秘密情報の取得\n",
    "response = client.access_secret_version(name=name)\n",
    "secret = json.loads(response.payload.data.decode(\"UTF-8\"))\n",
    "secret"
   ]
  },
  {
   "cell_type": "code",
   "execution_count": null,
   "metadata": {},
   "outputs": [],
   "source": [
    "from function.gcp import gcp_secretmanager\n",
    "\n",
    "\n",
    "gcp_secretmanager()"
   ]
  },
  {
   "cell_type": "markdown",
   "metadata": {},
   "source": [
    "## line に通知する"
   ]
  },
  {
   "cell_type": "code",
   "execution_count": 5,
   "metadata": {},
   "outputs": [],
   "source": [
    "from datetime import datetime\n",
    "\n",
    "import pytz\n",
    "import requests\n",
    "\n",
    "\n",
    "# 現在の日時を日本時間で取得\n",
    "jst = pytz.timezone(\"Asia/Tokyo\")\n",
    "today = datetime.now(tz=jst).strftime(\"%Y年%m月%d日\")\n",
    "\n",
    "\n",
    "def line_notify(message: str) -> None:\n",
    "    headers = {\"Authorization\": f\"Bearer {secret[SETTINGS['line_notify_token_id']]}\"}\n",
    "    data = {\"message\": f\"\\n{message}\"}\n",
    "    requests.post(SETTINGS[\"line_notify_api\"], headers=headers, data=data, timeout=10)\n",
    "\n",
    "\n",
    "for city in SETTINGS[\"request_url\"]:\n",
    "    notify_message = f\"🏢{city}🏢({today}時点)\\n\"\n",
    "    notify_message += f\"{SETTINGS['request_url'][city]}\"\n",
    "    line_notify(notify_message)\n",
    "\n",
    "    for age in SETTINGS[\"target_age\"]:\n",
    "        for availability in SETTINGS[\"target_availability\"]:\n",
    "            notify_message = f\"👶{age}で{availability}空きあり👶\\n\"\n",
    "            df_target = df[(df[\"空き\"] == availability) & (df[\"年齢\"] == age)]\n",
    "\n",
    "            for _, row in df_target.iterrows():\n",
    "                # 次に追加する文字列\n",
    "                next_part = f\"🏡{row['名称']}\\n\"\n",
    "                # 現在のメッセージに追加すると100文字を超える場合は、現在のメッセージを送信\n",
    "                if len(notify_message + next_part) > SETTINGS[\"line_notify_max_message_length\"]:\n",
    "                    line_notify(notify_message)\n",
    "                    # print(notify_message)\n",
    "                    notify_message = f\"【{age}の空き状況】\\n\"  # 新しいヘッダーを追加\n",
    "                # 文字列を追加\n",
    "                notify_message += next_part\n",
    "\n",
    "            # 最後のメッセージが残っていれば送信\n",
    "            if notify_message:\n",
    "                line_notify(notify_message)\n",
    "                # print(notify_message)"
   ]
  },
  {
   "cell_type": "code",
   "execution_count": 1,
   "metadata": {},
   "outputs": [
    {
     "name": "stderr",
     "output_type": "stream",
     "text": [
      "\u001b[32m2024-05-06 22:14:10.809\u001b[0m | \u001b[34m\u001b[1mDEBUG   \u001b[0m | \u001b[36m__main__\u001b[0m:\u001b[36m<module>\u001b[0m:\u001b[36m5\u001b[0m - \u001b[34m\u001b[1mデバッグ\u001b[0m\n",
      "\u001b[32m2024-05-06 22:14:10.811\u001b[0m | \u001b[1mINFO    \u001b[0m | \u001b[36m__main__\u001b[0m:\u001b[36m<module>\u001b[0m:\u001b[36m6\u001b[0m - \u001b[1m情報\u001b[0m\n",
      "\u001b[32m2024-05-06 22:14:10.813\u001b[0m | \u001b[32m\u001b[1mSUCCESS \u001b[0m | \u001b[36m__main__\u001b[0m:\u001b[36m<module>\u001b[0m:\u001b[36m7\u001b[0m - \u001b[32m\u001b[1m成功\u001b[0m\n",
      "\u001b[32m2024-05-06 22:14:10.816\u001b[0m | \u001b[33m\u001b[1mWARNING \u001b[0m | \u001b[36m__main__\u001b[0m:\u001b[36m<module>\u001b[0m:\u001b[36m8\u001b[0m - \u001b[33m\u001b[1m警告\u001b[0m\n",
      "\u001b[32m2024-05-06 22:14:10.818\u001b[0m | \u001b[31m\u001b[1mERROR   \u001b[0m | \u001b[36m__main__\u001b[0m:\u001b[36m<module>\u001b[0m:\u001b[36m9\u001b[0m - \u001b[31m\u001b[1mエラー\u001b[0m\n",
      "\u001b[32m2024-05-06 22:14:10.820\u001b[0m | \u001b[41m\u001b[1mCRITICAL\u001b[0m | \u001b[36m__main__\u001b[0m:\u001b[36m<module>\u001b[0m:\u001b[36m10\u001b[0m - \u001b[41m\u001b[1mクリティカル\u001b[0m\n"
     ]
    }
   ],
   "source": [
    "from loguru import logger\n",
    "\n",
    "\n",
    "logger.trace(\"トレース\")\n",
    "logger.debug(\"デバッグ\")\n",
    "logger.info(\"情報\")\n",
    "logger.success(\"成功\")\n",
    "logger.warning(\"警告\")\n",
    "logger.error(\"エラー\")\n",
    "logger.critical(\"クリティカル\")"
   ]
  }
 ],
 "metadata": {
  "kernelspec": {
   "display_name": "Python 3",
   "language": "python",
   "name": "python3"
  },
  "language_info": {
   "codemirror_mode": {
    "name": "ipython",
    "version": 3
   },
   "file_extension": ".py",
   "mimetype": "text/x-python",
   "name": "python",
   "nbconvert_exporter": "python",
   "pygments_lexer": "ipython3",
   "version": "3.11.9"
  }
 },
 "nbformat": 4,
 "nbformat_minor": 2
}
